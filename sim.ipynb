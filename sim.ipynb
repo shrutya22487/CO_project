{
 "cells": [
  {
   "cell_type": "code",
   "execution_count": null,
   "metadata": {},
   "outputs": [],
   "source": [
    "############## Main ##############\n",
    "def registers():\n",
    "    for i in reg:\n",
    "        if i != \"111\":\n",
    "            print( decimal_for_register( reg[ i ] ) , end = ' ' ) \n",
    "f=open(\"Input.txt\")\n",
    "command_list = f.readlines()\n",
    "len_of_command_list, i , R0 , R1 , R2 , R3 , R4 , R5 , R6 , FLAGS = len( command_list ) , 0 , 0 , 0 , 0 , 0 , 0 , 0 , '0000000000000000'\n",
    "reg = { \"000\" : R0 , \"001\" : R1 , \"010\" : R2 , \"011\" : R3 , \"100\" : R4 , \"101\" : R5 , \"110\" : R6 , \"111\" : FLAGS }\n",
    "instructions = { \"00000\" : add( reg( command_list[7 : 10 ] ), reg( command_list[ 10 : 13 ] ), reg( command_list[ 13 : ] ) )\n",
    "                , \"00001\" : sub( reg( command_list[7 : 10 ] ), reg( command_list[ 10 : 13 ] ) , reg( command_list[ 13 : ] ) )\n",
    "                , \"00010\" : movImm( reg( command_list[ 6 : 9 ] ) , decimal( command_list [ 9 : ] ) ) \n",
    "                , \"00011\" : mov_reg( reg( command_list[10 : 13] , command_list[ 13 : ] ) )\n",
    "                , \"00100\" : ld( reg( command_list[ 6 : 9 ] ) , command_list[ 9 : ] ) \n",
    "                , \"00101\" : st( reg( command_list[ 6 : 9 ] ) , command_list[ 9 : ] )\n",
    "                , \"00111\" : div( reg( command_list[10 : 13] , command_list[ 13 : ] ) )\n",
    "                , \"00110\" : mul( reg( command_list[7 : 10 ] ) , reg( command_list[ 10 : 13 ] ), reg( command_list[ 13 : ] ) ) \n",
    "                , \"01000\" : rs( reg( command_list[ 6 : 9 ] ) , decimal( command_list [ 9 : ] ) ) \n",
    "                , \"01001\" : ls( reg( command_list[ 6 : 9 ] ) , decimal( command_list [ 9 : ] ) )\n",
    "                , \"01010\" : xor( reg( command_list[7 : 10 ] ) , reg( command_list[ 10 : 13 ] ), reg( command_list[ 13 : ] ) ) \n",
    "                , \"01011\" : o_r( reg( command_list[7 : 10 ] ) , reg( command_list[ 10 : 13 ] ), reg( command_list[ 13 : ] ) )\n",
    "                , \"01100\" : a_nd( reg( command_list[7 : 10 ] ) , reg( command_list[ 10 : 13 ] ), reg( command_list[ 13 : ] ) ) \n",
    "                , \"01101\" : n_ot( reg( command_list[10 : 13] , command_list[ 13 : ] ) ) \n",
    "                , \"01110\" : c_mp( reg( command_list[10 : 13] , command_list[ 13 : ] ) )\n",
    "                , \"01111\" : jmp( command_list[ 9 : ] ) \n",
    "                , \"11100\" : jlt( command_list[ 9 : ] ) \n",
    "                , \"11101\" : jgt( command_list[ 9 : ] ) \n",
    "                , \"11111\": je( command_list[ 9 : ] ) \n",
    "                , \"11010\" : hlt( command_list[ 10 : ] ) }\n",
    "while ( command_list[ i ][ : 5 ] != '11010'):   #termination step is when we reach opcode of halt,   if u reached till here , thank u so much for reading my code\n",
    "    i = instructions[ command_list[ i ][ : 5] ]\n",
    "    print( binary_for_PC( i ) + ' ' + registers() + ' ' + FLAGS )"
   ]
  }
 ],
 "metadata": {
  "language_info": {
   "name": "python"
  },
  "orig_nbformat": 4
 },
 "nbformat": 4,
 "nbformat_minor": 2
}
